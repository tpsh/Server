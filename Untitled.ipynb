{
 "cells": [
  {
   "cell_type": "code",
   "execution_count": 11,
   "metadata": {
    "collapsed": false
   },
   "outputs": [
    {
     "data": {
      "text/plain": [
       "{'ground_temp': 7.0,\n",
       " 'humidity': 2.0,\n",
       " 'light': 0.55,\n",
       " 'pressure': 7.0,\n",
       " 'temp': 14.0,\n",
       " 'wind_direction': 0.45,\n",
       " 'wind_speed': 30.0}"
      ]
     },
     "execution_count": 11,
     "metadata": {},
     "output_type": "execute_result"
    }
   ],
   "source": [
    "import json\n",
    "data ='[ {\"wind_direction\": 0.45, \"humidity\": 2.0, \"light\": 0.55, \"temp\": 14.0, \"pressure\": 7.0, \"ground_temp\": 7.0, \"wind_speed\": 30.0}]'\n",
    "data\n",
    "l = json.loads(data)\n",
    "l[0]"
   ]
  }
 ],
 "metadata": {
  "kernelspec": {
   "display_name": "Python 3",
   "language": "python",
   "name": "python3"
  },
  "language_info": {
   "codemirror_mode": {
    "name": "ipython",
    "version": 3
   },
   "file_extension": ".py",
   "mimetype": "text/x-python",
   "name": "python",
   "nbconvert_exporter": "python",
   "pygments_lexer": "ipython3",
   "version": "3.5.1"
  }
 },
 "nbformat": 4,
 "nbformat_minor": 0
}
