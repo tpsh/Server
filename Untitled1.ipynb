{
 "cells": [
  {
   "cell_type": "code",
   "execution_count": 4,
   "metadata": {
    "collapsed": false
   },
   "outputs": [
    {
     "name": "stdout",
     "output_type": "stream",
     "text": [
      "['ShapkaYshanka', 'Shuba', 'Balonki']\n"
     ]
    }
   ],
   "source": [
    "class Cloths():\n",
    "    def __init__(self, temp, name, part_of_the_body):\n",
    "        self.temp = temp\n",
    "        self.name = name\n",
    "        self.part_of_the_body = part_of_the_body\n",
    "        \n",
    "l = [\n",
    "     Cloths(-15, \"Shapka\", \"head\"),\n",
    "     Cloths(-15, \"Kurtka\", \"body\"),\n",
    "     Cloths(-15, \"Djinsi\", \"legs\"),\n",
    "     Cloths(20, \"Kepka\", \"head\"),\n",
    "     Cloths(20, \"Majka\", \"body\"),\n",
    "     Cloths(20, \"Shorti\", \"legs\"),\n",
    "     Cloths(-30, \"Shuba\", \"body\"),\n",
    "     Cloths(-30, \"Balonki\", \"legs\"),\n",
    "     Cloths(-30, \"ShapkaYshanka\", \"head\")\n",
    "    ]\n",
    "# print(l[2].name)\n",
    "\n",
    "curr_temp = -100\n",
    "wind_speed = 7\n",
    "illumination = 15\n",
    "ki = 0.02\n",
    "kw = 0.7\n",
    "Min = 10000\n",
    "N = ['','','']\n",
    "\n",
    "temp_f = curr_temp - (wind_speed*kw) + (illumination*ki) \n",
    "\n",
    "for clothes in l:\n",
    "\n",
    "    T = clothes.temp - temp_f\n",
    "    if(T<0):\n",
    "        T = T*(-1)\n",
    "    if(T<=Min):\n",
    "        Min = T\n",
    "        if(clothes.part_of_the_body == \"body\"):\n",
    "            N[1] = clothes.name\n",
    "        if(clothes.part_of_the_body == \"head\"):\n",
    "            N[0] = clothes.name\n",
    "        if(clothes.part_of_the_body == \"legs\"):\n",
    "            N[2] = clothes.name\n",
    "\n",
    "print(N)\n",
    "    \n"
   ]
  },
  {
   "cell_type": "code",
   "execution_count": 9,
   "metadata": {
    "collapsed": false
   },
   "outputs": [
    {
     "name": "stdout",
     "output_type": "stream",
     "text": [
      "2016-03-21 14:05:10.995536\n"
     ]
    }
   ],
   "source": [
    "from datetime import datetime, date, time\n",
    "print(datetime.today())"
   ]
  }
 ],
 "metadata": {
  "kernelspec": {
   "display_name": "Python 3",
   "language": "python",
   "name": "python3"
  },
  "language_info": {
   "codemirror_mode": {
    "name": "ipython",
    "version": 3
   },
   "file_extension": ".py",
   "mimetype": "text/x-python",
   "name": "python",
   "nbconvert_exporter": "python",
   "pygments_lexer": "ipython3",
   "version": "3.5.1"
  }
 },
 "nbformat": 4,
 "nbformat_minor": 0
}
